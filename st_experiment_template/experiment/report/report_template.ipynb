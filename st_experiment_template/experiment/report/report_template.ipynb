{
 "cells": [
  {
   "cell_type": "markdown",
   "metadata": {},
   "source": [
    "<div><img hr align=\"right\" style=\"width:10%; height:auto;\" src=\"https://static.wixstatic.com/media/d90f6c_3fbd57f13f654c1ebe594cd2704d57af~mv2.jpeg/v1/fill/w_332,h_362,al_c,q_80,usm_0.66_1.00_0.01,enc_avif,quality_auto/IMG_3267.jpeg\"></div>\n",
    "\n",
    "<h1>report_template</h1>\n",
    "<i>memorable tagline descriptor</i>\n",
    "\n",
    "---\n",
    "<h3>Description:</h3>\n",
    "Add detailed notebook description here...\n",
    "\n",
    "\n",
    "\n",
    "<i>Written May 07, 2019</i>\n",
    "\n",
    "---"
   ]
  }
 ],
 "metadata": {
  "kernelspec": {
   "display_name": "Python 3 (ipykernel)",
   "language": "python",
   "name": "python3"
  },
  "language_info": {
   "codemirror_mode": {
    "name": "ipython",
    "version": 3
   },
   "file_extension": ".py",
   "mimetype": "text/x-python",
   "name": "python",
   "nbconvert_exporter": "python",
   "pygments_lexer": "ipython3",
   "version": "3.12.8"
  }
 },
 "nbformat": 4,
 "nbformat_minor": 4
}
